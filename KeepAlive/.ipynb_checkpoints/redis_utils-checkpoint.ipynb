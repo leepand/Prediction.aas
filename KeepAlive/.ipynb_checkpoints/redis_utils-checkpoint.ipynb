{
 "cells": [
  {
   "cell_type": "code",
   "execution_count": 3,
   "metadata": {},
   "outputs": [
    {
     "name": "stdout",
     "output_type": "stream",
     "text": [
      "Overwriting redis_utils.py\n"
     ]
    }
   ],
   "source": [
    "%%file redis_utils.py\n",
    "import uuid\n",
    "import time\n",
    "import redis\n",
    "import json\n",
    "\n",
    "from settings import (\n",
    "    REDIS_HOST, REDIS_PORT, DEFAULT_REDIS_DB,\n",
    "    REDIS_PASSWORD, LOCKER_PREFIX,TIMER_RECORDER)\n",
    "\n",
    "\n",
    "def get_redis_conn(**kwargs):\n",
    "    host = kwargs.get('host', REDIS_HOST)\n",
    "    port = kwargs.get('port', REDIS_PORT)\n",
    "    db = kwargs.get('db', DEFAULT_REDIS_DB)\n",
    "    password = kwargs.get('password', REDIS_PASSWORD)\n",
    "    return redis.StrictRedis(host, port, db, password)\n",
    "\n",
    "\n",
    "def dict_to_redis_hset(r, hkey, dict_to_store):\n",
    "    \"\"\"\n",
    "    Saves `dict_to_store` dict into Redis hash, where `hkey` is key of hash.\n",
    "    >>> import redis\n",
    "    >>> r = redis.StrictRedis(host='localhost')\n",
    "    >>> d = {'a':1, 'b':7, 'foo':'bar'}\n",
    "    >>> dict_to_redis_hset(r, 'test', d)\n",
    "    True\n",
    "    >>> r.hgetall('test')\n",
    "    {'a':1, 'b':7, 'foo':'bar'}\n",
    "    \"\"\"\n",
    "    return all([r.hset(hkey, k, v) for k, v in dict_to_store.items()])\n",
    "\n",
    "\n",
    "\n",
    "def redis_hget(conn,key,model_type):\n",
    "    return json.loads(conn.hgetall(key)[model_type])\n",
    "    \n",
    "def acquire_lock(conn, lock_name, acquire_timeout=10, lock_timeout=10):\n",
    "    \"\"\"inspired by the book 'redis in action' \"\"\"\n",
    "    identifier = str(uuid.uuid4())\n",
    "    lock_name = LOCKER_PREFIX + lock_name\n",
    "    end = time.time() + acquire_timeout\n",
    "\n",
    "    while time.time() < end:\n",
    "        if conn.set(lock_name, identifier, lock_timeout, nx=True):\n",
    "            return identifier\n",
    "        elif not conn.ttl(lock_name) or conn.ttl(lock_name) == -1:\n",
    "            conn.expire(lock_name, lock_timeout)\n",
    "        time.sleep(0.1)\n",
    "\n",
    "        return False"
   ]
  },
  {
   "cell_type": "code",
   "execution_count": null,
   "metadata": {},
   "outputs": [],
   "source": []
  }
 ],
 "metadata": {
  "kernelspec": {
   "display_name": "Python 2",
   "language": "python",
   "name": "python2"
  },
  "language_info": {
   "codemirror_mode": {
    "name": "ipython",
    "version": 2
   },
   "file_extension": ".py",
   "mimetype": "text/x-python",
   "name": "python",
   "nbconvert_exporter": "python",
   "pygments_lexer": "ipython2",
   "version": "2.7.13"
  }
 },
 "nbformat": 4,
 "nbformat_minor": 2
}

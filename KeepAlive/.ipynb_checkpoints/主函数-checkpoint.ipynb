{
 "cells": [
  {
   "cell_type": "code",
   "execution_count": 76,
   "metadata": {},
   "outputs": [
    {
     "name": "stdout",
     "output_type": "stream",
     "text": [
      "Overwriting Heartbeat.py\n"
     ]
    }
   ],
   "source": [
    "%%file Heartbeat.py\n",
    "# -*- coding:utf-8 -*-\n",
    "import datetime\n",
    "import hashlib\n",
    "import json\n",
    "import time\n",
    "import yaml\n",
    "import redis\n",
    "r = redis.StrictRedis(host='localhost')\n",
    "\n",
    "\n",
    "DATETIME_FORMAT = '%m/%d %H:%M'\n",
    "\n",
    "\n",
    "def format_now():\n",
    "    return datetime.datetime.now().strftime(DATETIME_FORMAT)\n",
    "def dict_to_redis_hset(r, hkey, dict_to_store):\n",
    "    \"\"\"\n",
    "    Saves `dict_to_store` dict into Redis hash, where `hkey` is key of hash.\n",
    "    >>> import redis\n",
    "    >>> r = redis.StrictRedis(host='localhost')\n",
    "    >>> d = {'a':1, 'b':7, 'foo':'bar'}\n",
    "    >>> dict_to_redis_hset(r, 'test', d)\n",
    "    True\n",
    "    >>> r.hgetall('test')\n",
    "    {'a':1, 'b':7, 'foo':'bar'}\n",
    "    \"\"\"\n",
    "    return all([r.hset(hkey, k, v) for k, v in dict_to_store.items()])\n",
    "\n",
    "\n",
    "class Test:\n",
    "    def __init__(self, owner,config):\n",
    "        self.owner = owner\n",
    "        self.config = config\n",
    "        self.id = hashlib.sha256(json.dumps(config).encode()).hexdigest()\n",
    "        \n",
    "        self.down_message = config.setdefault('down_message', '$name is down, since $last_pass_time')\n",
    "        self.up_message = config.setdefault('up_message', '$name is up')\n",
    "        self.ignore_fail_count = config.setdefault('ignore_fail_count', 0)\n",
    "        self.alert_period_hours = config.setdefault('alert_period_hours', 1.0)        \n",
    "    def get(self, key, default=None):\n",
    "        if not self.id in self.owner.state:\n",
    "            self.owner.state[self.id] = {}\n",
    "        return self.owner.state[self.id].setdefault(key, default)\n",
    "\n",
    "    def set(self, key, value):\n",
    "        if not self.id in self.owner.state:\n",
    "            self.owner.state[self.id] = {}\n",
    "        self.owner.state[self.id][key] = value\n",
    "\n",
    "    def expand_message(self, message):\n",
    "        for key, value in self.config.items():\n",
    "            message = message.replace('$' + key, str(value))\n",
    "        if not self.id in self.owner.state:\n",
    "            self.owner.state[self.id] = {}\n",
    "        for key, value in self.owner.state[self.id].items():\n",
    "            message = message.replace('$' + key, str(value))\n",
    "        return message\n",
    "\n",
    "    def do_pass(self):\n",
    "        if self.get('state') != 'passing':\n",
    "            self.owner.notify(self.expand_message(self.up_message))\n",
    "            self.set('state', 'passing')\n",
    "            self.set('first_pass_time', format_now())\n",
    "            self.set('last_fail_alert_time', 0)\n",
    "        self.set('last_pass_time', format_now())\n",
    "        self.set('fail_count', 0)\n",
    "        self.set('url', 'http://%s:%d' % ( self.config['host'], self.config['port']))\n",
    "        self.set('global_worker_id', self.config['worker_id'])\n",
    "        #self.set('model_id', self.config['model_id'])\n",
    "        dict_to_redis_hset(r, 'server_real_time_state', self.owner.state)\n",
    "        #with open('heartbeat_ok.json', 'w') as state_file:\n",
    "        #    json.dump(self.owner.state, state_file)\n",
    "\n",
    "    def do_fail(self):\n",
    "        fail_count = self.get('fail_count', 0) + 1\n",
    "        self.set('fail_count', fail_count)\n",
    "        if fail_count > self.ignore_fail_count:\n",
    "            if self.get('state') != 'failing':\n",
    "                self.set('state', 'failing')\n",
    "                self.set('first_fail_time', format_now())\n",
    "            alert_time = time.time()\n",
    "            last_alert_fail_time = self.get('last_fail_alert_time', 0)\n",
    "            if alert_time - last_alert_fail_time >= self.alert_period_hours * 60 * 60:\n",
    "                self.set('last_fail_alert_time', alert_time)\n",
    "                self.owner.notify(self.expand_message(self.down_message))\n",
    "        self.set('last_fail_time', format_now())\n",
    "        self.set('url', 'http://%s:%d' % ( self.config['host'], self.config['port']))\n",
    "        self.set('global_worker_id', self.config['worker_id'])\n",
    "        #self.set('model_id', self.config['model_id'])\n",
    "        dict_to_redis_hset(r, 'server_real_time_state', self.owner.state)\n",
    "        #with open('heartbeat_down.json', 'w') as state_file:\n",
    "        #    json.dump(self.owner.state, state_file)\n",
    "\n",
    "\n",
    "\n",
    "class TCPTest(Test):\n",
    "    def __init__(self, owner,config):\n",
    "        Test.__init__(self,owner,config)\n",
    "        #super().__init__(owner, config)\n",
    "        import socket\n",
    "        self.host = config['host']\n",
    "        self.port = config['port']\n",
    "\n",
    "    def run(self):\n",
    "        import socket\n",
    "        try:\n",
    "            sock=socket.create_connection((self.host, self.port))\n",
    "            print('{}:{} OK'.format(self.host, self.port))\n",
    "            sock.shutdown(socket.SHUT_RDWR)\n",
    "        except:\n",
    "            print('{}:{} {}'.format(self.host, self.port, 'err'))\n",
    "            self.do_fail()\n",
    "            return 'down'\n",
    "        else:\n",
    "            self.do_pass()\n",
    "            return 'pass'\n",
    "\n",
    "\n",
    "class HTTPTest(Test):\n",
    "    def __init__(self, owner, config):\n",
    "        Test.__init__(self,owner, config)#注意此处参数含self  \n",
    "        #super().__init__(owner, config)\n",
    "        import requests\n",
    "        self.url = 'http://%s:%d' % ( config['host'], config['port'])#'http://%s:%d' % (worker.host,worker.port)#config['url']\n",
    "        self.headers ={'x-ha-access': 'XXXXXXXX', 'Content-Type': 'application/json'}#config.get('headers', {})\n",
    "        #print('self.headers',self.headers)\n",
    "    def run(self):\n",
    "        import requests\n",
    "        try:\n",
    "            r = requests.get(self.url, headers=self.headers)\n",
    "            print(self.url, r.status_code, r.reason)\n",
    "            if r.status_code == 200:\n",
    "                self.do_pass()\n",
    "                return 'pass'\n",
    "            else:\n",
    "                self.do_fail()\n",
    "                return 'down'\n",
    "        except requests.ConnectionError as err:\n",
    "            print('{}:{} {}'.format(self.url, self.headers, err))\n",
    "            self.do_fail()\n",
    "            return 'down'\n",
    "\n",
    "\n",
    "class Heartbeat4LB:\n",
    "    def __init__(self):\n",
    "        self.state = {}\n",
    "        self.tests = []\n",
    "        self.alerts = []\n",
    "    def run_heart(self,config):\n",
    "        if config['test_type']=='tcp':            \n",
    "            self.tests.append(TCPTest(self,config))\n",
    "        else:\n",
    "            self.tests.append(HTTPTest(self,config))\n",
    "                    \n",
    "    def notify(self, message):\n",
    "        for alert in self.alerts:\n",
    "            alert.send(message)\n",
    "\n",
    "    def test(self):\n",
    "        for test in self.tests:\n",
    "            result=test.run()\n",
    "        return result\n",
    "\n",
    "    def run(self,conf):\n",
    "        self.run_heart(conf)\n",
    "        result= self.test()\n",
    "        return result\n",
    "\n",
    "\n",
    "\n"
   ]
  },
  {
   "cell_type": "code",
   "execution_count": 1,
   "metadata": {},
   "outputs": [
    {
     "name": "stdout",
     "output_type": "stream",
     "text": [
      "Writing __init__.py\n"
     ]
    }
   ],
   "source": [
    "%%file __init__.py\n",
    "__version__='0.1.0'"
   ]
  },
  {
   "cell_type": "code",
   "execution_count": 86,
   "metadata": {},
   "outputs": [],
   "source": [
    "from Heartbeat import Heartbeat4LB,dict_to_redis_hset\n",
    "import json\n",
    "import redis\n",
    "r = redis.StrictRedis(host='localhost')\n",
    "def worker_list_isAlive():\n",
    "    worklist_db=json.loads(r.hgetall('model_type_to_model_to_worker_list')['AI'])\n",
    "    heartbeat = Heartbeat4LB()\n",
    "    new_worker_list_dict={}\n",
    "    new_list_dict={}\n",
    "    for model_id,worklist in worklist_db.items():\n",
    "        new_list=[]\n",
    "        \n",
    "        for worker_id in worklist:\n",
    "            per_worker=json.loads(r.hgetall('model_type_to_worker_id_to_worker')['AI'])[worker_id]\n",
    "            worker_status=heartbeat.run({'host':per_worker['host'],'port':per_worker['port'],'worker_id':worker_id,'model_id':model_id,'test_type':'tcp'})\n",
    "            if worker_status=='pass':\n",
    "                new_list.append(worker_id)\n",
    "        print model_id,new_list\n",
    "        new_list_dict[model_id]=new_list\n",
    "    print new_list_dict\n",
    "    if 'AI' not in new_worker_list_dict:\n",
    "        new_worker_list_dict['AI']={}\n",
    "        new_worker_list_dict['AI']=json.dumps(new_list_dict)\n",
    "    dict_to_redis_hset(r, 'model_type_to_model_to_worker_list', new_worker_list_dict)         \n"
   ]
  },
  {
   "cell_type": "code",
   "execution_count": 87,
   "metadata": {},
   "outputs": [
    {
     "name": "stdout",
     "output_type": "stream",
     "text": [
      "localhost:8002 OK\n",
      "localhost:8002 OK\n",
      "localhost:8003 OK\n",
      "fib [u'localhost-8002-3', u'localhost-8003-1']\n",
      "localhost:8002 OK\n",
      "localhost:8003 OK\n",
      "localhost:8001 OK\n",
      "fib2 [u'localhost-8001-2']\n",
      "{u'fib2': [u'localhost-8001-2']}\n"
     ]
    }
   ],
   "source": [
    "worker_list_isAlive()"
   ]
  },
  {
   "cell_type": "code",
   "execution_count": 9,
   "metadata": {},
   "outputs": [
    {
     "data": {
      "text/plain": [
       "{'1106f3ac9cf41ce3c84567733ee385e91da61dd2a523407fe0942b3530cdc24f': \"{'model_id': u'fib2', 'last_fail_alert_time': 1527641026.522559, 'url': u'http://localhost:9019', 'state': 'failing', 'fail_count': 3, 'last_fail_time': '05/30 08:43', 'global_worker_id': u'localhost-9019-2', 'first_fail_time': '05/30 08:43'}\",\n",
       " '2e4e0674909b941665469df6f548718f66198f5bd7b98995e7a22751fdc49479': \"{'model_id': u'fib2', 'last_fail_alert_time': 0, 'url': u'http://localhost:8001', 'first_pass_time': '05/30 08:43', 'last_pass_time': '05/30 08:43', 'fail_count': 0, 'state': 'passing', 'global_worker_id': u'localhost-8001-2'}\",\n",
       " '3599554d487ac658835d3a40bb14d0a51793cb985ce7c9f9434b4c88cce68ea6': \"{'last_fail_alert_time': 1527599183.227461, 'url': u'http://localhost:9019', 'state': 'failing', 'fail_count': 3, 'last_fail_time': '05/29 21:06', 'global_worker_id': u'localhost-9019-2', 'first_fail_time': '05/29 21:06'}\",\n",
       " '39f6a25897686c3ba25ec1a9fe24a670c4c5e42f476392734933fb91c86920eb': \"{'last_fail_alert_time': 1527599183.095376, 'url': u'http://localhost:9005', 'state': 'failing', 'fail_count': 5, 'last_fail_time': '05/29 21:06', 'global_worker_id': u'localhost-9005-1', 'first_fail_time': '05/29 21:06'}\",\n",
       " '3d582a3591f27fee1a39b0dfcd5b7009ff7fc180849fb12b21eb2bf88d5cb4b7': \"{'last_fail_alert_time': 0, 'url': u'http://localhost:8002', 'first_pass_time': '05/29 21:06', 'last_pass_time': '05/29 21:06', 'fail_count': 0, 'state': 'passing', 'global_worker_id': u'localhost-8002-1'}\",\n",
       " '4e557f316cbe1b9c4227285c7a7d6580f5957309b197d2ea343a90875a5b0e62': \"{'model_id': u'fib2', 'last_fail_alert_time': 0, 'url': u'http://localhost:8001', 'first_pass_time': '05/30 08:43', 'last_pass_time': '05/30 08:43', 'fail_count': 0, 'state': 'passing', 'global_worker_id': u'localhost-8001-1'}\",\n",
       " '67b0f92881cba4f1c39bc866cb5d85e66b4cd78f759f2f0f4bdcf5cf7eaa5920': \"{'last_fail_alert_time': 0, 'url': u'http://localhost:8001', 'first_pass_time': '05/29 21:06', 'last_pass_time': '05/29 21:06', 'fail_count': 0, 'state': 'passing', 'global_worker_id': u'localhost-8001-1'}\",\n",
       " '6cf73b4f3c3adb15b8061b651515ec6cfaa9750c7ce5cde84cdfb6c83bc97587': \"{'model_id': u'fib', 'last_fail_alert_time': 1527641026.265195, 'url': u'http://localhost:9019', 'state': 'failing', 'fail_count': 8, 'last_fail_time': '05/30 08:43', 'global_worker_id': u'localhost-9019-1', 'first_fail_time': '05/30 08:43'}\",\n",
       " '8510509c49b9132eeb403a0509a047b46d3472aa53425f852c7979048c7aa46a': \"{'last_fail_alert_time': 0, 'url': u'http://localhost:8003', 'first_pass_time': '05/29 21:06', 'last_pass_time': '05/29 21:06', 'fail_count': 0, 'state': 'passing', 'global_worker_id': u'localhost-8003-1'}\",\n",
       " '8ed1359ed01d96ac12121f4ee9738caf1c389e29b682e6f70ae6f3b4c02042c7': \"{'last_fail_alert_time': 0, 'url': u'http://localhost:8001', 'first_pass_time': '05/29 21:06', 'last_pass_time': '05/29 21:06', 'fail_count': 0, 'state': 'passing', 'global_worker_id': u'localhost-8001-2'}\",\n",
       " '90af8f19bc74106dd1fef2b6d2a0058194e2f6afbade2459c8de5e5ea52e695f': \"{'model_id': u'predict', 'last_fail_alert_time': 1527641026.368329, 'url': u'http://localhost:9005', 'state': 'failing', 'fail_count': 5, 'last_fail_time': '05/30 08:43', 'global_worker_id': u'localhost-9005-1', 'first_fail_time': '05/30 08:43'}\",\n",
       " 'a7f72b9b4605a75758f4bbc2766238d8cd650996248da2d7f38f15bc8365ea42': \"{'last_fail_alert_time': 1527599182.979892, 'url': u'http://localhost:9019', 'state': 'failing', 'fail_count': 9, 'last_fail_time': '05/29 21:06', 'global_worker_id': u'localhost-9019-1', 'first_fail_time': '05/29 21:06'}\",\n",
       " 'c1713cd75d46d8aa1534920f2a5cb606277576e9870e080204bbec2a1a2d0e04': \"{'model_id': u'fib2', 'last_fail_alert_time': 1527641026.690456, 'url': u'http://localhost:9019', 'state': 'failing', 'fail_count': 1, 'last_fail_time': '05/30 08:43', 'global_worker_id': u'localhost-9019-1', 'first_fail_time': '05/30 08:43'}\",\n",
       " 'd7a717d1222f6d572a7ae3718504fef984949de9592f0b4611c95924684ad34b': \"{'model_id': u'fib', 'last_fail_alert_time': 0, 'url': u'http://localhost:8001', 'first_pass_time': '05/30 08:43', 'last_pass_time': '05/30 08:43', 'fail_count': 0, 'state': 'passing', 'global_worker_id': u'localhost-8001-1'}\",\n",
       " 'e92fa5e631743126373d0bed8bea72857226479a2f4a9d0a2b4fc7c244d3b79e': \"{'model_id': u'predict', 'last_fail_alert_time': 0, 'url': u'http://localhost:8002', 'first_pass_time': '05/30 08:43', 'last_pass_time': '05/30 08:43', 'fail_count': 0, 'state': 'passing', 'global_worker_id': u'localhost-8002-1'}\",\n",
       " 'ffe2ddea382ed0d33924697e9edfeb1d74797cd95ba49b1f3c0a9cf4672f4e7c': \"{'model_id': u'fib', 'last_fail_alert_time': 0, 'url': u'http://localhost:8003', 'first_pass_time': '05/30 08:43', 'last_pass_time': '05/30 08:43', 'fail_count': 0, 'state': 'passing', 'global_worker_id': u'localhost-8003-1'}\"}"
      ]
     },
     "execution_count": 9,
     "metadata": {},
     "output_type": "execute_result"
    }
   ],
   "source": [
    "r.hgetall('server_real_time_state')"
   ]
  },
  {
   "cell_type": "code",
   "execution_count": null,
   "metadata": {},
   "outputs": [],
   "source": [
    "def dict_to_redis_hset(r, hkey, dict_to_store):\n",
    "    \"\"\"\n",
    "    Saves `dict_to_store` dict into Redis hash, where `hkey` is key of hash.\n",
    "    >>> import redis\n",
    "    >>> r = redis.StrictRedis(host='localhost')\n",
    "    >>> d = {'a':1, 'b':7, 'foo':'bar'}\n",
    "    >>> dict_to_redis_hset(r, 'test', d)\n",
    "    True\n",
    "    >>> r.hgetall('test')\n",
    "    {'a':1, 'b':7, 'foo':'bar'}\n",
    "    \"\"\"\n",
    "    return all([r.hset(hkey, k, v) for k, v in dict_to_store.items()])"
   ]
  },
  {
   "cell_type": "code",
   "execution_count": 9,
   "metadata": {},
   "outputs": [
    {
     "data": {
      "text/plain": [
       "True"
      ]
     },
     "execution_count": 9,
     "metadata": {},
     "output_type": "execute_result"
    }
   ],
   "source": [
    "dict_to_store={'a':1, 'b':7, 'foo':'bar'}\n",
    "all([(k,v) for k, v in dict_to_store.items()])"
   ]
  },
  {
   "cell_type": "code",
   "execution_count": 10,
   "metadata": {},
   "outputs": [
    {
     "data": {
      "text/plain": [
       "[('a', 1), ('b', 7), ('foo', 'bar')]"
      ]
     },
     "execution_count": 10,
     "metadata": {},
     "output_type": "execute_result"
    }
   ],
   "source": [
    "[(k,v) for k, v in dict_to_store.items()]"
   ]
  },
  {
   "cell_type": "code",
   "execution_count": 16,
   "metadata": {},
   "outputs": [
    {
     "name": "stdout",
     "output_type": "stream",
     "text": [
      "wo的rld\n"
     ]
    }
   ],
   "source": [
    "import redis\n",
    "from persistentdict import RedisDict\n",
    "\n",
    "mydict = RedisDict(persistence=redis.StrictRedis())\n",
    "\n",
    "# with a specific storage key in redis\n",
    "mydict = RedisDict(persistence=redis.StrictRedis(), key='stuff')\n",
    "\n",
    "mydict['hello'] = u'wo的rld'\n",
    "\n",
    "print(mydict['hello'])\n",
    "#{'hello': 'world'}"
   ]
  },
  {
   "cell_type": "code",
   "execution_count": 14,
   "metadata": {},
   "outputs": [
    {
     "ename": "ImportError",
     "evalue": "No module named commons.src.utils.redis_persistent_dict",
     "output_type": "error",
     "traceback": [
      "\u001b[0;31m---------------------------------------\u001b[0m",
      "\u001b[0;31mImportError\u001b[0mTraceback (most recent call last)",
      "\u001b[0;32m<ipython-input-14-3ee060c9775f>\u001b[0m in \u001b[0;36m<module>\u001b[0;34m()\u001b[0m\n\u001b[0;32m----> 1\u001b[0;31m \u001b[0;32mfrom\u001b[0m \u001b[0mcommons\u001b[0m\u001b[0;34m.\u001b[0m\u001b[0msrc\u001b[0m\u001b[0;34m.\u001b[0m\u001b[0mutils\u001b[0m\u001b[0;34m.\u001b[0m\u001b[0mredis_persistent_dict\u001b[0m \u001b[0;32mimport\u001b[0m \u001b[0mRedisDict\u001b[0m\u001b[0;34m\u001b[0m\u001b[0m\n\u001b[0m",
      "\u001b[0;31mImportError\u001b[0m: No module named commons.src.utils.redis_persistent_dict"
     ]
    }
   ],
   "source": [
    "from commons.src.utils.redis_persistent_dict import RedisDict\n"
   ]
  },
  {
   "cell_type": "code",
   "execution_count": 18,
   "metadata": {},
   "outputs": [
    {
     "name": "stdout",
     "output_type": "stream",
     "text": [
      "{'hello': u'wo\\u7684rld'}\n"
     ]
    }
   ],
   "source": [
    "test1 = RedisDict(persistence=redis.StrictRedis(), key='test1')\n",
    "test1['hello'] = u'world'\n",
    "print(test1)"
   ]
  },
  {
   "cell_type": "code",
   "execution_count": 19,
   "metadata": {},
   "outputs": [
    {
     "name": "stdout",
     "output_type": "stream",
     "text": [
      "{'hello2': u'world'}\n"
     ]
    }
   ],
   "source": [
    "test2 = RedisDict(persistence=redis.StrictRedis(), key='test2')\n",
    "test2['hello2'] = u'world'\n",
    "print(test2)"
   ]
  },
  {
   "cell_type": "code",
   "execution_count": 20,
   "metadata": {},
   "outputs": [
    {
     "name": "stdout",
     "output_type": "stream",
     "text": [
      "{'hello2': u'world', 'hello': u'wo\\u7684rld'}\n"
     ]
    }
   ],
   "source": [
    "test3 = RedisDict(persistence=redis.StrictRedis(), key='test1')\n",
    "test3['hello2'] = u'world'\n",
    "print(test3)"
   ]
  },
  {
   "cell_type": "code",
   "execution_count": 21,
   "metadata": {},
   "outputs": [],
   "source": [
    "test3['hello2']={}\n",
    "test3['hello2']['AI']='haha'"
   ]
  },
  {
   "cell_type": "code",
   "execution_count": 23,
   "metadata": {},
   "outputs": [
    {
     "data": {
      "text/plain": [
       "'haha'"
      ]
     },
     "execution_count": 23,
     "metadata": {},
     "output_type": "execute_result"
    }
   ],
   "source": [
    "test3['hello2']['AI']"
   ]
  },
  {
   "cell_type": "code",
   "execution_count": 24,
   "metadata": {},
   "outputs": [],
   "source": [
    "class obs():\n",
    "    def __init__(self,a):\n",
    "        self.a=a"
   ]
  },
  {
   "cell_type": "code",
   "execution_count": 25,
   "metadata": {},
   "outputs": [
    {
     "data": {
      "text/plain": [
       "<__main__.obs instance at 0x10d45c3b0>"
      ]
     },
     "execution_count": 25,
     "metadata": {},
     "output_type": "execute_result"
    }
   ],
   "source": [
    "obs('e')"
   ]
  },
  {
   "cell_type": "code",
   "execution_count": 26,
   "metadata": {},
   "outputs": [],
   "source": [
    "test3['r']=obs('e')"
   ]
  },
  {
   "cell_type": "code",
   "execution_count": 28,
   "metadata": {},
   "outputs": [
    {
     "data": {
      "text/plain": [
       "'e'"
      ]
     },
     "execution_count": 28,
     "metadata": {},
     "output_type": "execute_result"
    }
   ],
   "source": [
    "test3['r'].a"
   ]
  },
  {
   "cell_type": "code",
   "execution_count": 29,
   "metadata": {},
   "outputs": [],
   "source": [
    "test3={'a':1}"
   ]
  },
  {
   "cell_type": "code",
   "execution_count": 34,
   "metadata": {},
   "outputs": [
    {
     "data": {
      "text/plain": [
       "{'a': 1}"
      ]
     },
     "execution_count": 34,
     "metadata": {},
     "output_type": "execute_result"
    }
   ],
   "source": [
    "test3"
   ]
  },
  {
   "cell_type": "code",
   "execution_count": 31,
   "metadata": {},
   "outputs": [
    {
     "data": {
      "text/plain": [
       "1"
      ]
     },
     "execution_count": 31,
     "metadata": {},
     "output_type": "execute_result"
    }
   ],
   "source": [
    "test3.get('a')"
   ]
  },
  {
   "cell_type": "code",
   "execution_count": 46,
   "metadata": {},
   "outputs": [],
   "source": [
    "model_type_to_model_to_worker_list = RedisDict(persistence=redis.StrictRedis(),key='model_id_request_count')"
   ]
  },
  {
   "cell_type": "code",
   "execution_count": null,
   "metadata": {},
   "outputs": [],
   "source": []
  },
  {
   "cell_type": "code",
   "execution_count": 63,
   "metadata": {},
   "outputs": [],
   "source": [
    "class WorkerLoadBalancer:\n",
    "    \"\"\"\n",
    "    A generic worker load balancer which helps in choosing a worker randomly.\n",
    "    \"\"\"\n",
    "\n",
    "    def __init__(self):\n",
    "        \"\"\"\n",
    "        Constructor\n",
    "        Returns: None\n",
    "\n",
    "        \"\"\"\n",
    "        #: dict model type to model to worker list map.\n",
    "        self.model_type_to_model_to_worker_list = RedisDict(persistence=redis.StrictRedis(), \n",
    "                                                            key='model_type_to_model_to_worker_list')\n",
    "        #: dict model type to worker id to worker info map\n",
    "        self.model_type_to_worker_id_to_worker = RedisDict(persistence=redis.StrictRedis(), \n",
    "                                                           key='model_type_to_worker_id_to_worker')\n",
    "\n",
    "        #: dict Model type to model to workers map\n",
    "        self.model_type_to_model_to_workers_map =RedisDict(persistence=redis.StrictRedis(), \n",
    "                                                           key='model_type_to_model_to_workers_map')\n",
    "        self.model_id_request_count=RedisDict(persistence=redis.StrictRedis(), \n",
    "                                              key='model_id_request_count')\n",
    "        self.worker_request_count=RedisDict(persistence=redis.StrictRedis(), \n",
    "                                            key='worker_request_count')\n",
    "        # Logger instance\n",
    "        self.logger = logging.getLogger(__name__)\n",
    "    def test(self):\n",
    "        self.model_type_to_worker_id_to_worker.pop('{')"
   ]
  },
  {
   "cell_type": "code",
   "execution_count": null,
   "metadata": {},
   "outputs": [],
   "source": []
  },
  {
   "cell_type": "code",
   "execution_count": 71,
   "metadata": {},
   "outputs": [],
   "source": [
    "ff= RedisDict(persistence=redis.StrictRedis(), key='model_type_to_model_to_worker_list3')"
   ]
  },
  {
   "cell_type": "code",
   "execution_count": 72,
   "metadata": {},
   "outputs": [
    {
     "data": {
      "text/plain": [
       "{u'AI': {}}"
      ]
     },
     "execution_count": 72,
     "metadata": {},
     "output_type": "execute_result"
    }
   ],
   "source": [
    "ff"
   ]
  },
  {
   "cell_type": "code",
   "execution_count": null,
   "metadata": {},
   "outputs": [],
   "source": []
  }
 ],
 "metadata": {
  "kernelspec": {
   "display_name": "Python 2",
   "language": "python",
   "name": "python2"
  },
  "language_info": {
   "codemirror_mode": {
    "name": "ipython",
    "version": 2
   },
   "file_extension": ".py",
   "mimetype": "text/x-python",
   "name": "python",
   "nbconvert_exporter": "python",
   "pygments_lexer": "ipython2",
   "version": "2.7.13"
  }
 },
 "nbformat": 4,
 "nbformat_minor": 2
}

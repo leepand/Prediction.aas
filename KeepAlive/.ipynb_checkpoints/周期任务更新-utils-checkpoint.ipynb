{
 "cells": [
  {
   "cell_type": "code",
   "execution_count": 22,
   "metadata": {},
   "outputs": [],
   "source": []
  },
  {
   "cell_type": "code",
   "execution_count": 20,
   "metadata": {},
   "outputs": [
    {
     "name": "stdout",
     "output_type": "stream",
     "text": [
      "Overwriting redis_util.py\n"
     ]
    }
   ],
   "source": [
    "%%file redis_util.py\n",
    "import uuid\n",
    "import time\n",
    "import redis\n",
    "\n",
    "from settings import (\n",
    "    REDIS_HOST, REDIS_PORT, DEFAULT_REDIS_DB,\n",
    "    REDIS_PASSWORD, LOCKER_PREFIX,TIMER_RECORDER)\n",
    "\n",
    "\n",
    "def get_redis_conn(**kwargs):\n",
    "    host = kwargs.get('host', REDIS_HOST)\n",
    "    port = kwargs.get('port', REDIS_PORT)\n",
    "    db = kwargs.get('db', DEFAULT_REDIS_DB)\n",
    "    password = kwargs.get('password', REDIS_PASSWORD)\n",
    "    return redis.StrictRedis(host, port, db, password)\n",
    "\n",
    "def acquire_lock(conn, lock_name, acquire_timeout=10, lock_timeout=10):\n",
    "    \"\"\"inspired by the book 'redis in action' \"\"\"\n",
    "    identifier = str(uuid.uuid4())\n",
    "    lock_name = LOCKER_PREFIX + lock_name\n",
    "    end = time.time() + acquire_timeout\n",
    "\n",
    "    while time.time() < end:\n",
    "        if conn.set(lock_name, identifier, lock_timeout, nx=True):\n",
    "            return identifier\n",
    "        elif not conn.ttl(lock_name) or conn.ttl(lock_name) == -1:\n",
    "            conn.expire(lock_name, lock_timeout)\n",
    "        time.sleep(0.1)\n",
    "\n",
    "        return False\n",
    "\n",
    "def release_lock(conn, lock_name, identifier):\n",
    "    pipe = conn.pipeline(True)\n",
    "    lock_name = LOCKER_PREFIX + lock_name\n",
    "    while True:\n",
    "        try:\n",
    "            pipe.watch(lock_name)\n",
    "            identifier_origin = pipe.get(lock_name).decode()\n",
    "            if identifier_origin == identifier:\n",
    "                pipe.multi()\n",
    "                pipe.delete(lock_name)\n",
    "                pipe.execute()\n",
    "                return True\n",
    "            pipe.unwatch()\n",
    "            break\n",
    "\n",
    "        except redis.exceptions.WatchError:\n",
    "            pass\n",
    "\n",
    "    return False"
   ]
  },
  {
   "cell_type": "code",
   "execution_count": 18,
   "metadata": {},
   "outputs": [
    {
     "name": "stdout",
     "output_type": "stream",
     "text": [
      "Overwriting settings.py\n"
     ]
    }
   ],
   "source": [
    "%%file settings.py\n",
    "\"\"\"\n",
    "Settings for UpdateAlive list schedule.\n",
    "\"\"\"\n",
    "# redis settings.If you use docker-compose, REDIS_HOST = 'redis'\n",
    "REDIS_HOST = 'redis'\n",
    "REDIS_PORT = 6379\n",
    "REDIS_PASSWORD = ''\n",
    "DEFAULT_REDIS_DB = 0\n",
    "LOCKER_PREFIX = 'heartbeat:lock:'\n",
    "TIMER_RECORDER = 'heartbeat:scheduler:task'\n",
    "\n"
   ]
  },
  {
   "cell_type": "code",
   "execution_count": 23,
   "metadata": {},
   "outputs": [
    {
     "name": "stdout",
     "output_type": "stream",
     "text": [
      "I'm working...\n",
      "I'm working...\n",
      "I'm working...\n",
      "I'm working...\n",
      "I'm working...\n",
      "I'm working...\n",
      "I'm working...\n",
      "I'm working...\n"
     ]
    },
    {
     "ename": "KeyboardInterrupt",
     "evalue": "",
     "output_type": "error",
     "traceback": [
      "\u001b[0;31m---------------------------------------\u001b[0m",
      "\u001b[0;31mKeyboardInterrupt\u001b[0mTraceback (most recent call last)",
      "\u001b[0;32m<ipython-input-23-e7b6dc6658dc>\u001b[0m in \u001b[0;36m<module>\u001b[0;34m()\u001b[0m\n\u001b[1;32m     43\u001b[0m \u001b[0;34m\u001b[0m\u001b[0m\n\u001b[1;32m     44\u001b[0m \u001b[0mscheduler\u001b[0m\u001b[0;34m.\u001b[0m\u001b[0mschedule_all_right_now\u001b[0m\u001b[0;34m(\u001b[0m\u001b[0;34m)\u001b[0m\u001b[0;34m\u001b[0m\u001b[0m\n\u001b[0;32m---> 45\u001b[0;31m \u001b[0mscheduler\u001b[0m\u001b[0;34m.\u001b[0m\u001b[0mschedule_with_delay\u001b[0m\u001b[0;34m(\u001b[0m\u001b[0;34m)\u001b[0m\u001b[0;34m\u001b[0m\u001b[0m\n\u001b[0m",
      "\u001b[0;32m<ipython-input-22-8b209a932b08>\u001b[0m in \u001b[0;36mschedule_with_delay\u001b[0;34m(self)\u001b[0m\n\u001b[1;32m     29\u001b[0m         \u001b[0;32mwhile\u001b[0m \u001b[0mTrue\u001b[0m\u001b[0;34m:\u001b[0m\u001b[0;34m\u001b[0m\u001b[0m\n\u001b[1;32m     30\u001b[0m             \u001b[0mschedule\u001b[0m\u001b[0;34m.\u001b[0m\u001b[0mrun_pending\u001b[0m\u001b[0;34m(\u001b[0m\u001b[0;34m)\u001b[0m\u001b[0;34m\u001b[0m\u001b[0m\n\u001b[0;32m---> 31\u001b[0;31m             \u001b[0mtime\u001b[0m\u001b[0;34m.\u001b[0m\u001b[0msleep\u001b[0m\u001b[0;34m(\u001b[0m\u001b[0;36m1\u001b[0m\u001b[0;34m)\u001b[0m\u001b[0;34m\u001b[0m\u001b[0m\n\u001b[0m\u001b[1;32m     32\u001b[0m \u001b[0;34m\u001b[0m\u001b[0m\n\u001b[1;32m     33\u001b[0m     \u001b[0;32mdef\u001b[0m \u001b[0mschedule_all_right_now\u001b[0m\u001b[0;34m(\u001b[0m\u001b[0mself\u001b[0m\u001b[0;34m)\u001b[0m\u001b[0;34m:\u001b[0m\u001b[0;34m\u001b[0m\u001b[0m\n",
      "\u001b[0;31mKeyboardInterrupt\u001b[0m: "
     ]
    }
   ],
   "source": []
  },
  {
   "cell_type": "code",
   "execution_count": null,
   "metadata": {},
   "outputs": [],
   "source": [
    "\n"
   ]
  },
  {
   "cell_type": "code",
   "execution_count": 12,
   "metadata": {},
   "outputs": [],
   "source": []
  },
  {
   "cell_type": "code",
   "execution_count": 4,
   "metadata": {},
   "outputs": [],
   "source": [
    "import click\n",
    "@click.command()\n",
    "@click.option('--usage', type=click.Choice(['crawler', 'validator']), default='crawler')\n",
    "@click.argument('task_queues', nargs=-1)\n",
    "def scheduler_start(usage, task_queues):\n",
    "    \"\"\"Start specified scheduler.\"\"\"\n",
    "    # scheduler_logger.info('{} scheduler is starting...'.format(usage))\n",
    "    print('{} scheduler is starting...'.format(usage))\n",
    "    default_tasks = CRAWLER_TASKS if usage == 'crawler' else VALIDATOR_TASKS\n",
    "    default_allow_tasks = DEFAULT_CRAWLER_TASKS if usage == 'crawler' else DEFAULT_VALIDATORS_TASKS\n",
    "    maps = CRAWLER_TASK_MAPS if usage == 'crawler' else TEMP_TASK_MAPS\n",
    "    SchedulerCls = CrawlerScheduler if usage == 'crawler' else ValidatorScheduler\n",
    "    scheduler = SchedulerCls(usage, default_tasks)\n",
    "\n",
    "    if not task_queues:\n",
    "        scheduler.task_queues = default_allow_tasks\n",
    "    else:\n",
    "        for task_queue in task_queues:\n",
    "            allow_task_queue = maps.get(task_queue)\n",
    "            if not allow_task_queue:\n",
    "                # scheduler_logger.warning('scheduler task {} is an invalid task, the allowed tasks are {}'.format(\n",
    "                #     task_queue, list(maps.keys())))\n",
    "                print('scheduler task {} is an invalid task, the allowed tasks are {}'.format(\n",
    "                    task_queue, list(maps.keys())))\n",
    "                continue\n",
    "            scheduler.task_queues.append(allow_task_queue)\n",
    "\n",
    "    scheduler.schedule_all_right_now()\n",
    "    scheduler.schedule_with_delay()\n"
   ]
  },
  {
   "cell_type": "code",
   "execution_count": 2,
   "metadata": {},
   "outputs": [
    {
     "name": "stdout",
     "output_type": "stream",
     "text": [
      "I'm working...\n",
      "I'm working...\n",
      "I'm working...\n",
      "I'm working...\n",
      "I'm working...\n",
      "I'm working...\n",
      "I'm working...\n",
      "I'm working...\n",
      "I'm working...\n",
      "I'm working...\n",
      "I'm working...\n",
      "I'm working...\n",
      "I'm working...\n"
     ]
    },
    {
     "ename": "KeyboardInterrupt",
     "evalue": "",
     "output_type": "error",
     "traceback": [
      "\u001b[0;31m---------------------------------------\u001b[0m",
      "\u001b[0;31mKeyboardInterrupt\u001b[0mTraceback (most recent call last)",
      "\u001b[0;32m<ipython-input-2-7d49389263ea>\u001b[0m in \u001b[0;36m<module>\u001b[0;34m()\u001b[0m\n\u001b[1;32m     10\u001b[0m \u001b[0;32mwhile\u001b[0m \u001b[0mTrue\u001b[0m\u001b[0;34m:\u001b[0m\u001b[0;34m\u001b[0m\u001b[0m\n\u001b[1;32m     11\u001b[0m     \u001b[0mschedule\u001b[0m\u001b[0;34m.\u001b[0m\u001b[0mrun_pending\u001b[0m\u001b[0;34m(\u001b[0m\u001b[0;34m)\u001b[0m\u001b[0;34m\u001b[0m\u001b[0m\n\u001b[0;32m---> 12\u001b[0;31m     \u001b[0mtime\u001b[0m\u001b[0;34m.\u001b[0m\u001b[0msleep\u001b[0m\u001b[0;34m(\u001b[0m\u001b[0;36m1\u001b[0m\u001b[0;34m)\u001b[0m\u001b[0;34m\u001b[0m\u001b[0m\n\u001b[0m",
      "\u001b[0;31mKeyboardInterrupt\u001b[0m: "
     ]
    }
   ],
   "source": [
    "import schedule\n",
    "import time\n",
    "\n",
    "def job():\n",
    "    print(\"I'm working...\")\n",
    "\n",
    "schedule.every(0.01).minutes.do(job)\n",
    "\n",
    "\n",
    "while True:\n",
    "    schedule.run_pending()\n",
    "    time.sleep(1)"
   ]
  },
  {
   "cell_type": "code",
   "execution_count": null,
   "metadata": {},
   "outputs": [],
   "source": []
  }
 ],
 "metadata": {
  "kernelspec": {
   "display_name": "Python 2",
   "language": "python",
   "name": "python2"
  },
  "language_info": {
   "codemirror_mode": {
    "name": "ipython",
    "version": 2
   },
   "file_extension": ".py",
   "mimetype": "text/x-python",
   "name": "python",
   "nbconvert_exporter": "python",
   "pygments_lexer": "ipython2",
   "version": "2.7.13"
  }
 },
 "nbformat": 4,
 "nbformat_minor": 2
}

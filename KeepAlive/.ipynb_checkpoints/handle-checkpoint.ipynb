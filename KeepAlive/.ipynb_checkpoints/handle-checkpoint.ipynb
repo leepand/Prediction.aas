{
 "cells": [
  {
   "cell_type": "code",
   "execution_count": 1,
   "metadata": {},
   "outputs": [
    {
     "name": "stdout",
     "output_type": "stream",
     "text": [
      "Writing keepalive_resource.py\n"
     ]
    }
   ],
   "source": [
    "%%file keepalive_resource.py\n",
    "# -*- coding:utf-8 -*-\n",
    "# Copyright 2017-2018, the original author or authors.\n",
    "\n",
    "# Licensed under the Apache License, Version 2.0 (the \"License\");\n",
    "# You may not use this file except in compliance\n",
    "# with the License.\n",
    "# You may obtain a copy of the License at\n",
    "#\n",
    "#   http://www.apache.org/licenses/LICENSE-2.0\n",
    "#\n",
    "# Unless required by applicable law or agreed to in writing,\n",
    "# software distributed under the License is distributed on an\n",
    "# \"AS IS\" BASIS, WITHOUT WARRANTIES OR CONDITIONS OF ANY\n",
    "# KIND, either express or implied. See the License for the\n",
    "# specific language governing permissions and limitations\n",
    "# under the License.\n",
    "#\n",
    "\n",
    "import falcon\n",
    "import json\n",
    "import sys\n",
    "import logging\n",
    "\n",
    "\n",
    "from HeartBeat import Heartbeat4LB\n",
    "class prediction_input:\n",
    "    \"\"\"\n",
    "    Contains input details and model_id and data\n",
    "    \"\"\"\n",
    "    def __init__(self, model_id, data,model_type):\n",
    "        self.model_id = model_id\n",
    "        self.data = data\n",
    "        self.local_worker_id = local_worker_id\n",
    "        self.model_type=model_type\n",
    "\n",
    "\n",
    "class KeepAliveResource(object):\n",
    "    def __init__(self, AI_worker_client):\n",
    "        self.AI_worker_client=AI_worker_client\n",
    "        self.logger = logging.getLogger(__name__)\n",
    "        self.logger.info(\"Keepalive Inited...\")\n",
    "\n",
    "\n",
    "    def on_get(self, req, resp):\n",
    "        \"\"\"Handles GET requests\"\"\"\n",
    "        resp.status = falcon.HTTP_200  # This is the default status\n",
    "        resp.body = ('\\nFalcon is awesome! \\n')\n",
    "\n",
    "    def on_post(self, req, resp):\n",
    "        payload = json.loads(req.stream.read())\n",
    "        if ('data' in payload.keys()) and ('modelId' in payload.keys()):\n",
    "            prediction_input.data = payload['data']\n",
    "            prediction_input.model_id = payload['modelId']\n",
    "            prediction_input.model_type= \"AI\"\n",
    "        else:\n",
    "            resp.status = falcon.HTTP_400\n",
    "            raise falcon.HTTPBadRequest(\"Bad Request\", \"Url and(or) modelId missing in the payload\")\n",
    "\n",
    "        po = self.AI_worker_client.predict(prediction_input)\n",
    "\n",
    "        if po.status == 'Success':\n",
    "            resp.status = falcon.HTTP_200\n",
    "            resp.body = (str(po.result))\n",
    "        elif po.status == 'Failure':\n",
    "            resp.body = json.dumps({'status': 'Failure', 'message' : 'Error occurred'})\n",
    "            resp.status = falcon.HTTP_500\n",
    "            raise falcon.HTTPInternalServerError('Internal Server Error', 'Predict failed! ')"
   ]
  },
  {
   "cell_type": "code",
   "execution_count": null,
   "metadata": {},
   "outputs": [],
   "source": []
  }
 ],
 "metadata": {
  "kernelspec": {
   "display_name": "Python 2",
   "language": "python",
   "name": "python2"
  },
  "language_info": {
   "codemirror_mode": {
    "name": "ipython",
    "version": 2
   },
   "file_extension": ".py",
   "mimetype": "text/x-python",
   "name": "python",
   "nbconvert_exporter": "python",
   "pygments_lexer": "ipython2",
   "version": "2.7.13"
  }
 },
 "nbformat": 4,
 "nbformat_minor": 2
}
